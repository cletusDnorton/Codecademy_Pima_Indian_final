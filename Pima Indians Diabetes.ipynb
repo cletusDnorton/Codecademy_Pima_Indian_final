{
 "cells": [
  {
   "cell_type": "code",
   "execution_count": 1,
   "metadata": {},
   "outputs": [],
   "source": [
    "import pandas as pd\n",
    "import numpy as np\n",
    "from matplotlib import pyplot as plt\n",
    "import seaborn as sns\n",
    "import warnings\n",
    "warnings.filterwarnings('ignore')"
   ]
  },
  {
   "cell_type": "code",
   "execution_count": 2,
   "metadata": {},
   "outputs": [
    {
     "data": {
      "text/html": [
       "<div>\n",
       "<style scoped>\n",
       "    .dataframe tbody tr th:only-of-type {\n",
       "        vertical-align: middle;\n",
       "    }\n",
       "\n",
       "    .dataframe tbody tr th {\n",
       "        vertical-align: top;\n",
       "    }\n",
       "\n",
       "    .dataframe thead th {\n",
       "        text-align: right;\n",
       "    }\n",
       "</style>\n",
       "<table border=\"1\" class=\"dataframe\">\n",
       "  <thead>\n",
       "    <tr style=\"text-align: right;\">\n",
       "      <th></th>\n",
       "      <th>Pregnancies</th>\n",
       "      <th>Glucose</th>\n",
       "      <th>BloodPressure</th>\n",
       "      <th>SkinThickness</th>\n",
       "      <th>Insulin</th>\n",
       "      <th>BMI</th>\n",
       "      <th>DiabetesPedigreeFunction</th>\n",
       "      <th>Age</th>\n",
       "      <th>Outcome</th>\n",
       "    </tr>\n",
       "  </thead>\n",
       "  <tbody>\n",
       "    <tr>\n",
       "      <th>0</th>\n",
       "      <td>6</td>\n",
       "      <td>148</td>\n",
       "      <td>72</td>\n",
       "      <td>35</td>\n",
       "      <td>0</td>\n",
       "      <td>33.6</td>\n",
       "      <td>0.627</td>\n",
       "      <td>50</td>\n",
       "      <td>1</td>\n",
       "    </tr>\n",
       "    <tr>\n",
       "      <th>1</th>\n",
       "      <td>1</td>\n",
       "      <td>85</td>\n",
       "      <td>66</td>\n",
       "      <td>29</td>\n",
       "      <td>0</td>\n",
       "      <td>26.6</td>\n",
       "      <td>0.351</td>\n",
       "      <td>31</td>\n",
       "      <td>0</td>\n",
       "    </tr>\n",
       "    <tr>\n",
       "      <th>2</th>\n",
       "      <td>8</td>\n",
       "      <td>183</td>\n",
       "      <td>64</td>\n",
       "      <td>0</td>\n",
       "      <td>0</td>\n",
       "      <td>23.3</td>\n",
       "      <td>0.672</td>\n",
       "      <td>32</td>\n",
       "      <td>1</td>\n",
       "    </tr>\n",
       "    <tr>\n",
       "      <th>3</th>\n",
       "      <td>1</td>\n",
       "      <td>89</td>\n",
       "      <td>66</td>\n",
       "      <td>23</td>\n",
       "      <td>94</td>\n",
       "      <td>28.1</td>\n",
       "      <td>0.167</td>\n",
       "      <td>21</td>\n",
       "      <td>0</td>\n",
       "    </tr>\n",
       "    <tr>\n",
       "      <th>4</th>\n",
       "      <td>0</td>\n",
       "      <td>137</td>\n",
       "      <td>40</td>\n",
       "      <td>35</td>\n",
       "      <td>168</td>\n",
       "      <td>43.1</td>\n",
       "      <td>2.288</td>\n",
       "      <td>33</td>\n",
       "      <td>1</td>\n",
       "    </tr>\n",
       "  </tbody>\n",
       "</table>\n",
       "</div>"
      ],
      "text/plain": [
       "   Pregnancies  Glucose  BloodPressure  SkinThickness  Insulin   BMI  \\\n",
       "0            6      148             72             35        0  33.6   \n",
       "1            1       85             66             29        0  26.6   \n",
       "2            8      183             64              0        0  23.3   \n",
       "3            1       89             66             23       94  28.1   \n",
       "4            0      137             40             35      168  43.1   \n",
       "\n",
       "   DiabetesPedigreeFunction  Age  Outcome  \n",
       "0                     0.627   50        1  \n",
       "1                     0.351   31        0  \n",
       "2                     0.672   32        1  \n",
       "3                     0.167   21        0  \n",
       "4                     2.288   33        1  "
      ]
     },
     "execution_count": 2,
     "metadata": {},
     "output_type": "execute_result"
    }
   ],
   "source": [
    "df_Pima = pd.read_csv('diabetes.csv')\n",
    "df_Pima.head()"
   ]
  },
  {
   "cell_type": "markdown",
   "metadata": {},
   "source": [
    "Importing the CSV file and reviewing the columns. Even with just the few rows visible I noticed there was some rows that had 0 where there should be some data."
   ]
  },
  {
   "cell_type": "code",
   "execution_count": 3,
   "metadata": {},
   "outputs": [
    {
     "data": {
      "text/html": [
       "<div>\n",
       "<style scoped>\n",
       "    .dataframe tbody tr th:only-of-type {\n",
       "        vertical-align: middle;\n",
       "    }\n",
       "\n",
       "    .dataframe tbody tr th {\n",
       "        vertical-align: top;\n",
       "    }\n",
       "\n",
       "    .dataframe thead th {\n",
       "        text-align: right;\n",
       "    }\n",
       "</style>\n",
       "<table border=\"1\" class=\"dataframe\">\n",
       "  <thead>\n",
       "    <tr style=\"text-align: right;\">\n",
       "      <th></th>\n",
       "      <th>Pregnancies</th>\n",
       "      <th>Glucose</th>\n",
       "      <th>BloodPressure</th>\n",
       "      <th>SkinThickness</th>\n",
       "      <th>Insulin</th>\n",
       "      <th>BMI</th>\n",
       "      <th>DiabetesPedigreeFunction</th>\n",
       "      <th>Age</th>\n",
       "      <th>Outcome</th>\n",
       "    </tr>\n",
       "  </thead>\n",
       "  <tbody>\n",
       "    <tr>\n",
       "      <th>count</th>\n",
       "      <td>768.000000</td>\n",
       "      <td>768.000000</td>\n",
       "      <td>768.000000</td>\n",
       "      <td>768.000000</td>\n",
       "      <td>768.000000</td>\n",
       "      <td>768.000000</td>\n",
       "      <td>768.000000</td>\n",
       "      <td>768.000000</td>\n",
       "      <td>768.000000</td>\n",
       "    </tr>\n",
       "    <tr>\n",
       "      <th>mean</th>\n",
       "      <td>3.845052</td>\n",
       "      <td>120.894531</td>\n",
       "      <td>69.105469</td>\n",
       "      <td>20.536458</td>\n",
       "      <td>79.799479</td>\n",
       "      <td>31.992578</td>\n",
       "      <td>0.471876</td>\n",
       "      <td>33.240885</td>\n",
       "      <td>0.348958</td>\n",
       "    </tr>\n",
       "    <tr>\n",
       "      <th>std</th>\n",
       "      <td>3.369578</td>\n",
       "      <td>31.972618</td>\n",
       "      <td>19.355807</td>\n",
       "      <td>15.952218</td>\n",
       "      <td>115.244002</td>\n",
       "      <td>7.884160</td>\n",
       "      <td>0.331329</td>\n",
       "      <td>11.760232</td>\n",
       "      <td>0.476951</td>\n",
       "    </tr>\n",
       "    <tr>\n",
       "      <th>min</th>\n",
       "      <td>0.000000</td>\n",
       "      <td>0.000000</td>\n",
       "      <td>0.000000</td>\n",
       "      <td>0.000000</td>\n",
       "      <td>0.000000</td>\n",
       "      <td>0.000000</td>\n",
       "      <td>0.078000</td>\n",
       "      <td>21.000000</td>\n",
       "      <td>0.000000</td>\n",
       "    </tr>\n",
       "    <tr>\n",
       "      <th>25%</th>\n",
       "      <td>1.000000</td>\n",
       "      <td>99.000000</td>\n",
       "      <td>62.000000</td>\n",
       "      <td>0.000000</td>\n",
       "      <td>0.000000</td>\n",
       "      <td>27.300000</td>\n",
       "      <td>0.243750</td>\n",
       "      <td>24.000000</td>\n",
       "      <td>0.000000</td>\n",
       "    </tr>\n",
       "    <tr>\n",
       "      <th>50%</th>\n",
       "      <td>3.000000</td>\n",
       "      <td>117.000000</td>\n",
       "      <td>72.000000</td>\n",
       "      <td>23.000000</td>\n",
       "      <td>30.500000</td>\n",
       "      <td>32.000000</td>\n",
       "      <td>0.372500</td>\n",
       "      <td>29.000000</td>\n",
       "      <td>0.000000</td>\n",
       "    </tr>\n",
       "    <tr>\n",
       "      <th>75%</th>\n",
       "      <td>6.000000</td>\n",
       "      <td>140.250000</td>\n",
       "      <td>80.000000</td>\n",
       "      <td>32.000000</td>\n",
       "      <td>127.250000</td>\n",
       "      <td>36.600000</td>\n",
       "      <td>0.626250</td>\n",
       "      <td>41.000000</td>\n",
       "      <td>1.000000</td>\n",
       "    </tr>\n",
       "    <tr>\n",
       "      <th>max</th>\n",
       "      <td>17.000000</td>\n",
       "      <td>199.000000</td>\n",
       "      <td>122.000000</td>\n",
       "      <td>99.000000</td>\n",
       "      <td>846.000000</td>\n",
       "      <td>67.100000</td>\n",
       "      <td>2.420000</td>\n",
       "      <td>81.000000</td>\n",
       "      <td>1.000000</td>\n",
       "    </tr>\n",
       "  </tbody>\n",
       "</table>\n",
       "</div>"
      ],
      "text/plain": [
       "       Pregnancies     Glucose  BloodPressure  SkinThickness     Insulin  \\\n",
       "count   768.000000  768.000000     768.000000     768.000000  768.000000   \n",
       "mean      3.845052  120.894531      69.105469      20.536458   79.799479   \n",
       "std       3.369578   31.972618      19.355807      15.952218  115.244002   \n",
       "min       0.000000    0.000000       0.000000       0.000000    0.000000   \n",
       "25%       1.000000   99.000000      62.000000       0.000000    0.000000   \n",
       "50%       3.000000  117.000000      72.000000      23.000000   30.500000   \n",
       "75%       6.000000  140.250000      80.000000      32.000000  127.250000   \n",
       "max      17.000000  199.000000     122.000000      99.000000  846.000000   \n",
       "\n",
       "              BMI  DiabetesPedigreeFunction         Age     Outcome  \n",
       "count  768.000000                768.000000  768.000000  768.000000  \n",
       "mean    31.992578                  0.471876   33.240885    0.348958  \n",
       "std      7.884160                  0.331329   11.760232    0.476951  \n",
       "min      0.000000                  0.078000   21.000000    0.000000  \n",
       "25%     27.300000                  0.243750   24.000000    0.000000  \n",
       "50%     32.000000                  0.372500   29.000000    0.000000  \n",
       "75%     36.600000                  0.626250   41.000000    1.000000  \n",
       "max     67.100000                  2.420000   81.000000    1.000000  "
      ]
     },
     "execution_count": 3,
     "metadata": {},
     "output_type": "execute_result"
    }
   ],
   "source": [
    "df_Pima.describe()"
   ]
  },
  {
   "cell_type": "markdown",
   "metadata": {},
   "source": [
    "This gives us a review of the data in each column. Agin this points to many columns having a minimum value of 0, where it doesn't make sense. Having zero pregnancies makes sense, but having a blood pressure, glucose, insulin, or BMI reading of zero shows we are missing some data. To fix this, I replaced the 0 in those columns with NaN values to be more accurate."
   ]
  },
  {
   "cell_type": "code",
   "execution_count": 4,
   "metadata": {},
   "outputs": [],
   "source": [
    "df_Pima[['Glucose', 'BloodPressure', 'SkinThickness','Insulin', 'BMI']] = df_Pima[['Glucose', 'BloodPressure', 'SkinThickness', 'Insulin', 'BMI']].replace(0, np.NaN)"
   ]
  },
  {
   "cell_type": "code",
   "execution_count": 5,
   "metadata": {},
   "outputs": [
    {
     "data": {
      "text/plain": [
       "Pregnancies                   0\n",
       "Glucose                       5\n",
       "BloodPressure                35\n",
       "SkinThickness               227\n",
       "Insulin                     374\n",
       "BMI                          11\n",
       "DiabetesPedigreeFunction      0\n",
       "Age                           0\n",
       "Outcome                       0\n",
       "dtype: int64"
      ]
     },
     "execution_count": 5,
     "metadata": {},
     "output_type": "execute_result"
    }
   ],
   "source": [
    "df_Pima.isna().sum()"
   ]
  },
  {
   "cell_type": "markdown",
   "metadata": {},
   "source": [
    "Now that we see how much data is missing, I created function to find the mean value of each column grouped by the outcome. This will allow me to provide an estimated value for the NaN based on the outcome. "
   ]
  },
  {
   "cell_type": "code",
   "execution_count": 6,
   "metadata": {},
   "outputs": [],
   "source": [
    "def find_median(column):\n",
    "    temp = df_Pima[df_Pima[column].notnull()]\n",
    "    temp = df_Pima[[column, 'Outcome']].groupby('Outcome')[[column]].mean().reset_index()\n",
    "    return temp"
   ]
  },
  {
   "cell_type": "code",
   "execution_count": 7,
   "metadata": {},
   "outputs": [
    {
     "name": "stdout",
     "output_type": "stream",
     "text": [
      "   Outcome     Glucose\n",
      "0        0  110.643863\n",
      "1        1  142.319549\n",
      "   Outcome  BloodPressure\n",
      "0        0      70.877339\n",
      "1        1      75.321429\n",
      "   Outcome  SkinThickness\n",
      "0        0      27.235457\n",
      "1        1      33.000000\n",
      "   Outcome     Insulin\n",
      "0        0  130.287879\n",
      "1        1  206.846154\n",
      "   Outcome        BMI\n",
      "0        0  30.859674\n",
      "1        1  35.406767\n"
     ]
    }
   ],
   "source": [
    "print(find_median('Glucose'))\n",
    "print(find_median('BloodPressure'))\n",
    "print(find_median('SkinThickness'))\n",
    "print(find_median('Insulin'))\n",
    "print(find_median('BMI'))"
   ]
  },
  {
   "cell_type": "markdown",
   "metadata": {},
   "source": [
    "Using the information from the find_median function. I updated the NaN with the median values."
   ]
  },
  {
   "cell_type": "code",
   "execution_count": 8,
   "metadata": {},
   "outputs": [],
   "source": [
    "df_Pima.loc[(df_Pima['Outcome'] == 0) & (df_Pima['Glucose'].isnull()), 'Glucose'] = 110.6\n",
    "df_Pima.loc[(df_Pima['Outcome'] == 1) & (df_Pima['Glucose'].isnull()), 'Glucose'] = 169.5\n",
    "df_Pima.loc[(df_Pima['Outcome'] == 0) & (df_Pima['BloodPressure'].isnull()), 'BloodPressure'] = 70.8\n",
    "df_Pima.loc[(df_Pima['Outcome'] == 1) & (df_Pima['BloodPressure'].isnull()), 'BloodPressure'] = 75.3\n",
    "df_Pima.loc[(df_Pima['Outcome'] == 0) & (df_Pima['SkinThickness'].isnull()), 'SkinThickness'] = 27.2\n",
    "df_Pima.loc[(df_Pima['Outcome'] == 1) & (df_Pima['SkinThickness'].isnull()), 'SkinThickness'] = 33.0\n",
    "df_Pima.loc[(df_Pima['Outcome'] == 0) & (df_Pima['Insulin'].isnull()), 'Insulin'] = 130.3\n",
    "df_Pima.loc[(df_Pima['Outcome'] == 1) & (df_Pima['Insulin'].isnull()), 'Insulin'] = 206.8\n",
    "df_Pima.loc[(df_Pima['Outcome'] == 0) & (df_Pima['BMI'].isnull()), 'BMI'] = 30.8\n",
    "df_Pima.loc[(df_Pima['Outcome'] == 1) & (df_Pima['BMI'].isnull()), 'BMI'] = 35.4"
   ]
  },
  {
   "cell_type": "code",
   "execution_count": 9,
   "metadata": {},
   "outputs": [
    {
     "data": {
      "text/plain": [
       "Pregnancies                 0\n",
       "Glucose                     0\n",
       "BloodPressure               0\n",
       "SkinThickness               0\n",
       "Insulin                     0\n",
       "BMI                         0\n",
       "DiabetesPedigreeFunction    0\n",
       "Age                         0\n",
       "Outcome                     0\n",
       "dtype: int64"
      ]
     },
     "execution_count": 9,
     "metadata": {},
     "output_type": "execute_result"
    }
   ],
   "source": [
    "df_Pima.isna().sum()"
   ]
  },
  {
   "cell_type": "markdown",
   "metadata": {},
   "source": [
    "A quick scatterplot to compare BMI and pregenancies with the outcome added as the hue. Looking to see if there is a correlation. This looks pretty evenly distributed positive (1) reults for diabetes, but suggestions there might be something to look at when pregnancies get above 7."
   ]
  },
  {
   "cell_type": "code",
   "execution_count": 10,
   "metadata": {},
   "outputs": [
    {
     "data": {
      "image/png": "[encoded data removed]",
      "text/plain": [
       "<Figure size 720x432 with 1 Axes>"
      ]
     },
     "metadata": {
      "needs_background": "light"
     },
     "output_type": "display_data"
    }
   ],
   "source": [
    "plt.figure(figsize=(10,6))\n",
    "sns.scatterplot(x='Pregnancies', y='BMI', data=df_Pima, hue='Outcome', alpha= 0.7)\n",
    "plt.title('Comparison of BMI and Pregnancies')\n",
    "plt.show()"
   ]
  },
  {
   "cell_type": "markdown",
   "metadata": {},
   "source": [
    "Another scatterplot, this one show BMI and insulin. It shows insulin counts above 200 resulted in more cases of diabetes."
   ]
  },
  {
   "cell_type": "code",
   "execution_count": 11,
   "metadata": {},
   "outputs": [
    {
     "data": {
      "image/png": "[encoded data removed]",
      "text/plain": [
       "<Figure size 720x432 with 1 Axes>"
      ]
     },
     "metadata": {
      "needs_background": "light"
     },
     "output_type": "display_data"
    }
   ],
   "source": [
    "plt.figure(figsize=(10,6))\n",
    "sns.scatterplot(x='Insulin', y='BMI', data=df_Pima, hue='Outcome', alpha= 0.7)\n",
    "plt.title('Comparison of BMI and Insulin')\n",
    "plt.show()"
   ]
  },
  {
   "cell_type": "markdown",
   "metadata": {},
   "source": [
    "A barchart showing the overall count of negative cases (500) and positive cases (268)."
   ]
  },
  {
   "cell_type": "code",
   "execution_count": 12,
   "metadata": {},
   "outputs": [
    {
     "data": {
      "text/plain": [
       "<AxesSubplot:title={'center':'Count of Positive / Negative Outcome'}, xlabel='count', ylabel='Outcome'>"
      ]
     },
     "execution_count": 12,
     "metadata": {},
     "output_type": "execute_result"
    },
    {
     "data": {
      "image/png": "[encoded data removed]",
      "text/plain": [
       "<Figure size 432x288 with 1 Axes>"
      ]
     },
     "metadata": {
      "needs_background": "light"
     },
     "output_type": "display_data"
    }
   ],
   "source": [
    "plt.title('Count of Positive / Negative Outcome')\n",
    "sns.countplot(data=df_Pima, y= 'Outcome')"
   ]
  },
  {
   "cell_type": "markdown",
   "metadata": {},
   "source": [
    "This histogram shows the counts for age with negative cases in blue and positive (diabetic) cases in orange. "
   ]
  },
  {
   "cell_type": "code",
   "execution_count": 13,
   "metadata": {},
   "outputs": [
    {
     "data": {
      "text/plain": [
       "<AxesSubplot:title={'center':'Age count with Positive / Negative Outcome'}, xlabel='Age', ylabel='Count'>"
      ]
     },
     "execution_count": 13,
     "metadata": {},
     "output_type": "execute_result"
    },
    {
     "data": {
      "image/png": "[encoded data removed]",
      "text/plain": [
       "<Figure size 720x864 with 1 Axes>"
      ]
     },
     "metadata": {
      "needs_background": "light"
     },
     "output_type": "display_data"
    }
   ],
   "source": [
    "plt.figure(figsize=(10, 12))\n",
    "plt.title('Age count with Positive / Negative Outcome')\n",
    "sns.histplot(data= df_Pima, x='Age', hue='Outcome', element= 'step', fill=False)"
   ]
  },
  {
   "cell_type": "markdown",
   "metadata": {},
   "source": [
    "Below is the correlation between the different features. "
   ]
  },
  {
   "cell_type": "code",
   "execution_count": 14,
   "metadata": {},
   "outputs": [
    {
     "data": {
      "text/html": [
       "<div>\n",
       "<style scoped>\n",
       "    .dataframe tbody tr th:only-of-type {\n",
       "        vertical-align: middle;\n",
       "    }\n",
       "\n",
       "    .dataframe tbody tr th {\n",
       "        vertical-align: top;\n",
       "    }\n",
       "\n",
       "    .dataframe thead th {\n",
       "        text-align: right;\n",
       "    }\n",
       "</style>\n",
       "<table border=\"1\" class=\"dataframe\">\n",
       "  <thead>\n",
       "    <tr style=\"text-align: right;\">\n",
       "      <th></th>\n",
       "      <th>Pregnancies</th>\n",
       "      <th>Glucose</th>\n",
       "      <th>BloodPressure</th>\n",
       "      <th>SkinThickness</th>\n",
       "      <th>Insulin</th>\n",
       "      <th>BMI</th>\n",
       "      <th>DiabetesPedigreeFunction</th>\n",
       "      <th>Age</th>\n",
       "      <th>Outcome</th>\n",
       "    </tr>\n",
       "  </thead>\n",
       "  <tbody>\n",
       "    <tr>\n",
       "      <th>Pregnancies</th>\n",
       "      <td>1.000000</td>\n",
       "      <td>0.130673</td>\n",
       "      <td>0.208954</td>\n",
       "      <td>0.094048</td>\n",
       "      <td>0.093515</td>\n",
       "      <td>0.024154</td>\n",
       "      <td>-0.033523</td>\n",
       "      <td>0.544341</td>\n",
       "      <td>0.221898</td>\n",
       "    </tr>\n",
       "    <tr>\n",
       "      <th>Glucose</th>\n",
       "      <td>0.130673</td>\n",
       "      <td>1.000000</td>\n",
       "      <td>0.224166</td>\n",
       "      <td>0.236498</td>\n",
       "      <td>0.497759</td>\n",
       "      <td>0.237257</td>\n",
       "      <td>0.138222</td>\n",
       "      <td>0.269009</td>\n",
       "      <td>0.497835</td>\n",
       "    </tr>\n",
       "    <tr>\n",
       "      <th>BloodPressure</th>\n",
       "      <td>0.208954</td>\n",
       "      <td>0.224166</td>\n",
       "      <td>1.000000</td>\n",
       "      <td>0.203377</td>\n",
       "      <td>0.099999</td>\n",
       "      <td>0.286583</td>\n",
       "      <td>-0.002203</td>\n",
       "      <td>0.324483</td>\n",
       "      <td>0.175151</td>\n",
       "    </tr>\n",
       "    <tr>\n",
       "      <th>SkinThickness</th>\n",
       "      <td>0.094048</td>\n",
       "      <td>0.236498</td>\n",
       "      <td>0.203377</td>\n",
       "      <td>1.000000</td>\n",
       "      <td>0.212719</td>\n",
       "      <td>0.565681</td>\n",
       "      <td>0.102614</td>\n",
       "      <td>0.135687</td>\n",
       "      <td>0.308571</td>\n",
       "    </tr>\n",
       "    <tr>\n",
       "      <th>Insulin</th>\n",
       "      <td>0.093515</td>\n",
       "      <td>0.497759</td>\n",
       "      <td>0.099999</td>\n",
       "      <td>0.212719</td>\n",
       "      <td>1.000000</td>\n",
       "      <td>0.231526</td>\n",
       "      <td>0.121710</td>\n",
       "      <td>0.165125</td>\n",
       "      <td>0.410787</td>\n",
       "    </tr>\n",
       "    <tr>\n",
       "      <th>BMI</th>\n",
       "      <td>0.024154</td>\n",
       "      <td>0.237257</td>\n",
       "      <td>0.286583</td>\n",
       "      <td>0.565681</td>\n",
       "      <td>0.231526</td>\n",
       "      <td>1.000000</td>\n",
       "      <td>0.152528</td>\n",
       "      <td>0.027622</td>\n",
       "      <td>0.315335</td>\n",
       "    </tr>\n",
       "    <tr>\n",
       "      <th>DiabetesPedigreeFunction</th>\n",
       "      <td>-0.033523</td>\n",
       "      <td>0.138222</td>\n",
       "      <td>-0.002203</td>\n",
       "      <td>0.102614</td>\n",
       "      <td>0.121710</td>\n",
       "      <td>0.152528</td>\n",
       "      <td>1.000000</td>\n",
       "      <td>0.033561</td>\n",
       "      <td>0.173844</td>\n",
       "    </tr>\n",
       "    <tr>\n",
       "      <th>Age</th>\n",
       "      <td>0.544341</td>\n",
       "      <td>0.269009</td>\n",
       "      <td>0.324483</td>\n",
       "      <td>0.135687</td>\n",
       "      <td>0.165125</td>\n",
       "      <td>0.027622</td>\n",
       "      <td>0.033561</td>\n",
       "      <td>1.000000</td>\n",
       "      <td>0.238356</td>\n",
       "    </tr>\n",
       "    <tr>\n",
       "      <th>Outcome</th>\n",
       "      <td>0.221898</td>\n",
       "      <td>0.497835</td>\n",
       "      <td>0.175151</td>\n",
       "      <td>0.308571</td>\n",
       "      <td>0.410787</td>\n",
       "      <td>0.315335</td>\n",
       "      <td>0.173844</td>\n",
       "      <td>0.238356</td>\n",
       "      <td>1.000000</td>\n",
       "    </tr>\n",
       "  </tbody>\n",
       "</table>\n",
       "</div>"
      ],
      "text/plain": [
       "                          Pregnancies   Glucose  BloodPressure  SkinThickness  \\\n",
       "Pregnancies                  1.000000  0.130673       0.208954       0.094048   \n",
       "Glucose                      0.130673  1.000000       0.224166       0.236498   \n",
       "BloodPressure                0.208954  0.224166       1.000000       0.203377   \n",
       "SkinThickness                0.094048  0.236498       0.203377       1.000000   \n",
       "Insulin                      0.093515  0.497759       0.099999       0.212719   \n",
       "BMI                          0.024154  0.237257       0.286583       0.565681   \n",
       "DiabetesPedigreeFunction    -0.033523  0.138222      -0.002203       0.102614   \n",
       "Age                          0.544341  0.269009       0.324483       0.135687   \n",
       "Outcome                      0.221898  0.497835       0.175151       0.308571   \n",
       "\n",
       "                           Insulin       BMI  DiabetesPedigreeFunction  \\\n",
       "Pregnancies               0.093515  0.024154                 -0.033523   \n",
       "Glucose                   0.497759  0.237257                  0.138222   \n",
       "BloodPressure             0.099999  0.286583                 -0.002203   \n",
       "SkinThickness             0.212719  0.565681                  0.102614   \n",
       "Insulin                   1.000000  0.231526                  0.121710   \n",
       "BMI                       0.231526  1.000000                  0.152528   \n",
       "DiabetesPedigreeFunction  0.121710  0.152528                  1.000000   \n",
       "Age                       0.165125  0.027622                  0.033561   \n",
       "Outcome                   0.410787  0.315335                  0.173844   \n",
       "\n",
       "                               Age   Outcome  \n",
       "Pregnancies               0.544341  0.221898  \n",
       "Glucose                   0.269009  0.497835  \n",
       "BloodPressure             0.324483  0.175151  \n",
       "SkinThickness             0.135687  0.308571  \n",
       "Insulin                   0.165125  0.410787  \n",
       "BMI                       0.027622  0.315335  \n",
       "DiabetesPedigreeFunction  0.033561  0.173844  \n",
       "Age                       1.000000  0.238356  \n",
       "Outcome                   0.238356  1.000000  "
      ]
     },
     "execution_count": 14,
     "metadata": {},
     "output_type": "execute_result"
    }
   ],
   "source": [
    "df_Pima.corr()"
   ]
  },
  {
   "cell_type": "markdown",
   "metadata": {},
   "source": [
    "First step is to preprocess the features to scale. Since there are significant difference in the numbers for each feature, we want to make sure they don't scew the data. Using sklearn scale, I processed the features with the min/max method."
   ]
  },
  {
   "cell_type": "code",
   "execution_count": 15,
   "metadata": {},
   "outputs": [
    {
     "name": "stdout",
     "output_type": "stream",
     "text": [
      "[[ 0.63994726  0.85945808  0.64570209  0.56083978  0.16790636  1.4259954 ]\n",
      " [-0.84488505 -1.20465424 -0.02697724 -0.30067319 -0.85032783 -0.19067191]\n",
      " [ 1.23388019  2.00618715  0.42147564  0.56083978 -1.33035252 -0.10558415]\n",
      " ...\n",
      " [ 0.3429808  -0.02516149 -0.69965657 -0.50676061 -0.90851264 -0.27575966]\n",
      " [-0.84488505  0.13865695  0.42147564  0.56083978 -0.34121073  1.17073215]\n",
      " [-0.84488505 -0.94254474  0.1972492  -0.30067319 -0.29757212 -0.87137393]]\n"
     ]
    }
   ],
   "source": [
    "from sklearn.preprocessing import scale\n",
    "\n",
    "diabetes_labels = df_Pima['Outcome']\n",
    "diabetes_features = df_Pima[['Pregnancies', 'Glucose', 'SkinThickness', 'Insulin', 'BMI', 'Age']]\n",
    "\n",
    "scaled_features = scale(diabetes_features, axis=0)\n",
    "print(scaled_features)"
   ]
  },
  {
   "cell_type": "markdown",
   "metadata": {},
   "source": [
    "Using train_test_split, the data was split into an 80/20 split. Six features were used in this split."
   ]
  },
  {
   "cell_type": "code",
   "execution_count": 16,
   "metadata": {},
   "outputs": [],
   "source": [
    "from sklearn.model_selection import train_test_split\n",
    "\n",
    "train_data, test_data, train_label, test_label = train_test_split(scaled_features, diabetes_labels, test_size=0.2, random_state =1)"
   ]
  },
  {
   "cell_type": "markdown",
   "metadata": {},
   "source": [
    "I used K nearest neighbor as a classifier. I tested a few different number of n_neighbor, but ended on 3 with favorable results."
   ]
  },
  {
   "cell_type": "code",
   "execution_count": 17,
   "metadata": {},
   "outputs": [
    {
     "data": {
      "text/plain": [
       "0.8831168831168831"
      ]
     },
     "execution_count": 17,
     "metadata": {},
     "output_type": "execute_result"
    }
   ],
   "source": [
    "from sklearn.neighbors import KNeighborsClassifier\n",
    "\n",
    "classifier = KNeighborsClassifier(n_neighbors = 3)\n",
    "classifier.fit(train_data, train_label)\n",
    "knn_prediction = classifier.predict(test_data)\n",
    "classifier.score(test_data, test_label)"
   ]
  },
  {
   "cell_type": "markdown",
   "metadata": {},
   "source": [
    "With the same six features, I also ran a random forest classifier. I limited the depth to 6 to help prevent overfitting."
   ]
  },
  {
   "cell_type": "code",
   "execution_count": 18,
   "metadata": {},
   "outputs": [
    {
     "data": {
      "text/plain": [
       "0.8896103896103896"
      ]
     },
     "execution_count": 18,
     "metadata": {},
     "output_type": "execute_result"
    }
   ],
   "source": [
    "from sklearn.ensemble import RandomForestClassifier\n",
    "forest_classifier = RandomForestClassifier(n_estimators = 100, max_depth=6) \n",
    "forest_classifier.fit(train_data, train_label)\n",
    "forest_prediction = forest_classifier.predict(test_data)\n",
    "forest_classifier.score(test_data, test_label)"
   ]
  },
  {
   "cell_type": "markdown",
   "metadata": {},
   "source": [
    "Below are the K-nearest-neighbor metrics. Overall this did good with an F1 score of .83."
   ]
  },
  {
   "cell_type": "code",
   "execution_count": 19,
   "metadata": {},
   "outputs": [
    {
     "name": "stdout",
     "output_type": "stream",
     "text": [
      "KNN Accuracey is: 0.8831168831168831\n",
      "KNN Precision score is 0.8627450980392157\n",
      "KNN F1 score is 0.8301886792452831\n"
     ]
    }
   ],
   "source": [
    "from sklearn.metrics import accuracy_score, recall_score, precision_score, f1_score\n",
    "print('KNN Accuracey is: ' +str(accuracy_score(test_label, knn_prediction)))\n",
    "print('KNN Precision score is ' + str(precision_score(test_label,knn_prediction)))\n",
    "print('KNN F1 score is ' + str(f1_score(test_label,knn_prediction)))"
   ]
  },
  {
   "cell_type": "markdown",
   "metadata": {},
   "source": [
    "Below are the Random forest metrics. This was slightly more accurate, but wasn't significantly more precise. The F1 score was also .84."
   ]
  },
  {
   "cell_type": "code",
   "execution_count": 20,
   "metadata": {},
   "outputs": [
    {
     "name": "stdout",
     "output_type": "stream",
     "text": [
      "Random forest Accuracey is: 0.8896103896103896\n",
      "Random forest Precision score is 0.8518518518518519\n",
      "Random forest F1 score is 0.8440366972477065\n"
     ]
    }
   ],
   "source": [
    "print('Random forest Accuracey is: ' +str(accuracy_score(test_label,forest_prediction)))\n",
    "print('Random forest Precision score is ' + str(precision_score(test_label,forest_prediction)))\n",
    "print('Random forest F1 score is ' + str(f1_score(test_label,forest_prediction)))"
   ]
  },
  {
   "cell_type": "markdown",
   "metadata": {},
   "source": [
    "I decided to try and reduce the number of features in an effort to gain more precision. I reduced the features to the top four correlations and reran the K-Nearest_Neighbor and Random Forest classifiers."
   ]
  },
  {
   "cell_type": "code",
   "execution_count": 21,
   "metadata": {},
   "outputs": [],
   "source": [
    "diabetes_labels2 = df_Pima['Outcome']\n",
    "diabetes_features2 = df_Pima[['Glucose', 'SkinThickness', 'Insulin', 'BMI']]\n",
    "\n",
    "scaled_features2 = scale(diabetes_features, axis=0)"
   ]
  },
  {
   "cell_type": "code",
   "execution_count": 22,
   "metadata": {},
   "outputs": [],
   "source": [
    "train_data2, test_data2, train_label2, test_label2 = train_test_split(scaled_features2, diabetes_labels2, test_size=0.2, random_state =1)"
   ]
  },
  {
   "cell_type": "code",
   "execution_count": 23,
   "metadata": {},
   "outputs": [
    {
     "data": {
      "text/plain": [
       "0.8831168831168831"
      ]
     },
     "execution_count": 23,
     "metadata": {},
     "output_type": "execute_result"
    }
   ],
   "source": [
    "classifier2 = KNeighborsClassifier(n_neighbors = 3)\n",
    "classifier2.fit(train_data2, train_label2)\n",
    "classifier2.score(test_data2, test_label2)"
   ]
  },
  {
   "cell_type": "code",
   "execution_count": 24,
   "metadata": {},
   "outputs": [],
   "source": [
    "knn_prediction2 = classifier2.predict(test_data2)"
   ]
  },
  {
   "cell_type": "markdown",
   "metadata": {},
   "source": [
    "Below are the metrics for the K-Nearest_Neighbor. Again I limited it to 3 n_neighbor. Interestingly the results were the same. Suggesting that age and pregancies had no impact of the group becoming diabetic."
   ]
  },
  {
   "cell_type": "code",
   "execution_count": 25,
   "metadata": {},
   "outputs": [
    {
     "name": "stdout",
     "output_type": "stream",
     "text": [
      "KNN2 Accuracey is: 0.8831168831168831\n",
      "KNN2 Precision score is 0.8627450980392157\n",
      "KNN2 F1 score is 0.8301886792452831\n"
     ]
    }
   ],
   "source": [
    "print('KNN2 Accuracey is: ' +str(accuracy_score(test_label2,knn_prediction2)))\n",
    "print('KNN2 Precision score is ' + str(precision_score(test_label2,knn_prediction2)))\n",
    "print('KNN2 F1 score is ' + str(f1_score(test_label2,knn_prediction2)))"
   ]
  },
  {
   "cell_type": "code",
   "execution_count": 26,
   "metadata": {},
   "outputs": [
    {
     "data": {
      "text/plain": [
       "0.8766233766233766"
      ]
     },
     "execution_count": 26,
     "metadata": {},
     "output_type": "execute_result"
    }
   ],
   "source": [
    "forest_classifier2 = RandomForestClassifier(n_estimators = 75, max_depth=6) \n",
    "forest_classifier2.fit(train_data2, train_label2)\n",
    "forest_classifier2.score(test_data2, test_label2)"
   ]
  },
  {
   "cell_type": "code",
   "execution_count": 27,
   "metadata": {},
   "outputs": [],
   "source": [
    "predictions2 = forest_classifier2.predict(test_data2)"
   ]
  },
  {
   "cell_type": "markdown",
   "metadata": {},
   "source": [
    "Below are the metrics for the Random Forest with only four features. The scores were slightly down with only four features, but not significant. The F1 score dropped to .82 instead of .84."
   ]
  },
  {
   "cell_type": "code",
   "execution_count": 28,
   "metadata": {},
   "outputs": [
    {
     "name": "stdout",
     "output_type": "stream",
     "text": [
      "Random forest2 Accuracey is: 0.8766233766233766\n",
      "Random forest2 Precision score is 0.8461538461538461\n",
      "Random forest2 F1 score is 0.8224299065420562\n"
     ]
    }
   ],
   "source": [
    "print('Random forest2 Accuracey is: ' +str(accuracy_score(test_label2,predictions2 )))\n",
    "print('Random forest2 Precision score is ' + str(precision_score(test_label2,predictions2 )))\n",
    "print('Random forest2 F1 score is ' + str(f1_score(test_label2,predictions2 )))"
   ]
  },
  {
   "cell_type": "code",
   "execution_count": null,
   "metadata": {},
   "outputs": [],
   "source": []
  }
 ],
 "metadata": {
  "kernelspec": {
   "display_name": "Python 3",
   "language": "python",
   "name": "python3"
  },
  "language_info": {
   "codemirror_mode": {
    "name": "ipython",
    "version": 3
   },
   "file_extension": ".py",
   "mimetype": "text/x-python",
   "name": "python",
   "nbconvert_exporter": "python",
   "pygments_lexer": "ipython3",
   "version": "3.8.5"
  }
 },
 "nbformat": 4,
 "nbformat_minor": 4
}
